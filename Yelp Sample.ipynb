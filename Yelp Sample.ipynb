{
 "cells": [
  {
   "cell_type": "code",
   "execution_count": 3,
   "metadata": {},
   "outputs": [
    {
     "name": "stdout",
     "output_type": "stream",
     "text": [
      "root\n |-- business_id: string (nullable = true)\n |-- cool: long (nullable = true)\n |-- date: string (nullable = true)\n |-- funny: long (nullable = true)\n |-- review_id: string (nullable = true)\n |-- stars: double (nullable = true)\n |-- text: string (nullable = true)\n |-- useful: long (nullable = true)\n |-- user_id: string (nullable = true)\n\n"
     ]
    },
    {
     "name": "stdout",
     "output_type": "stream",
     "text": [
      "root\n |-- address: string (nullable = true)\n |-- attributes: struct (nullable = true)\n |    |-- AcceptsInsurance: string (nullable = true)\n |    |-- AgesAllowed: string (nullable = true)\n |    |-- Alcohol: string (nullable = true)\n |    |-- Ambience: string (nullable = true)\n |    |-- BYOB: string (nullable = true)\n |    |-- BYOBCorkage: string (nullable = true)\n |    |-- BestNights: string (nullable = true)\n |    |-- BikeParking: string (nullable = true)\n |    |-- BusinessAcceptsBitcoin: string (nullable = true)\n |    |-- BusinessAcceptsCreditCards: string (nullable = true)\n |    |-- BusinessParking: string (nullable = true)\n |    |-- ByAppointmentOnly: string (nullable = true)\n |    |-- Caters: string (nullable = true)\n |    |-- CoatCheck: string (nullable = true)\n |    |-- Corkage: string (nullable = true)\n |    |-- DietaryRestrictions: string (nullable = true)\n |    |-- DogsAllowed: string (nullable = true)\n |    |-- DriveThru: string (nullable = true)\n |    |-- GoodForDancing: string (nullable = true)\n |    |-- GoodForKids: string (nullable = true)\n |    |-- GoodForMeal: string (nullable = true)\n |    |-- HairSpecializesIn: string (nullable = true)\n |    |-- HappyHour: string (nullable = true)\n |    |-- HasTV: string (nullable = true)\n |    |-- Music: string (nullable = true)\n |    |-- NoiseLevel: string (nullable = true)\n |    |-- Open24Hours: string (nullable = true)\n |    |-- OutdoorSeating: string (nullable = true)\n |    |-- RestaurantsAttire: string (nullable = true)\n |    |-- RestaurantsCounterService: string (nullable = true)\n |    |-- RestaurantsDelivery: string (nullable = true)\n |    |-- RestaurantsGoodForGroups: string (nullable = true)\n |    |-- RestaurantsPriceRange2: string (nullable = true)\n |    |-- RestaurantsReservations: string (nullable = true)\n |    |-- RestaurantsTableService: string (nullable = true)\n |    |-- RestaurantsTakeOut: string (nullable = true)\n |    |-- Smoking: string (nullable = true)\n |    |-- WheelchairAccessible: string (nullable = true)\n |    |-- WiFi: string (nullable = true)\n |-- business_id: string (nullable = true)\n |-- categories: string (nullable = true)\n |-- city: string (nullable = true)\n |-- hours: struct (nullable = true)\n |    |-- Friday: string (nullable = true)\n |    |-- Monday: string (nullable = true)\n |    |-- Saturday: string (nullable = true)\n |    |-- Sunday: string (nullable = true)\n |    |-- Thursday: string (nullable = true)\n |    |-- Tuesday: string (nullable = true)\n |    |-- Wednesday: string (nullable = true)\n |-- is_open: long (nullable = true)\n |-- latitude: double (nullable = true)\n |-- longitude: double (nullable = true)\n |-- name: string (nullable = true)\n |-- postal_code: string (nullable = true)\n |-- review_count: long (nullable = true)\n |-- stars: double (nullable = true)\n |-- state: string (nullable = true)\n\n<class 'pyspark.sql.dataframe.DataFrame'>\n<class 'pyspark.sql.dataframe.DataFrame'>\n"
     ]
    },
    {
     "name": "stdout",
     "output_type": "stream",
     "text": [
      "+--------------------+--------------------+-----+\n|            Ambience|                name|stars|\n+--------------------+--------------------+-----+\n|{'romantic': Fals...|Vivalia Bistro Ex...|  5.0|\n|{'touristy': Fals...|Stir Krazy Mongol...|  5.0|\n|{'touristy': Fals...|Krispy Krunchy Ch...|  5.0|\n|{'touristy': Fals...|Islas Filipino BB...|  5.0|\n|{'romantic': Fals...|Fresh Med Mediter...|  5.0|\n|{'romantic': Fals...|       Papa Murphy's|  5.0|\n|{'romantic': Fals...|Not Your Typical ...|  5.0|\n|{'touristy': Fals...|         Don's Diner|  5.0|\n|{'touristy': True...|            Hot Shot|  5.0|\n|{'touristy': Fals...|   Raspados Imperial|  5.0|\n|{'touristy': Fals...|    Thai 999 Express|  5.0|\n|{'touristy': Fals...| The Brilliant Bagel|  5.0|\n|{'romantic': Fals...|         Cafe Fresco|  5.0|\n|{'touristy': Fals...|   YZ's Karaoke Cafe|  5.0|\n|{'romantic': Fals...|       King of Clubs|  5.0|\n|{'touristy': Fals...|    Wallace Espresso|  5.0|\n|{'touristy': Fals...|    Zookz Sandwiches|  5.0|\n|{'touristy': Fals...|      La Chambre PHX|  5.0|\n|{'romantic': Fals...|       The Gold Club|  5.0|\n|{'touristy': Fals...|Wild Spork Food T...|  5.0|\n+--------------------+--------------------+-----+\nonly showing top 20 rows\n\n"
     ]
    }
   ],
   "source": [
    "import os\n",
    "import findspark\n",
    "findspark.init()\n",
    "\n",
    "from pyspark import SparkContext, SparkConf\n",
    "from pyspark.sql import SparkSession\n",
    "\n",
    "os.environ[\"SPARK_HOME\"] = \"/usr/local/spark\"\n",
    "\n",
    "spark = SparkSession \\\n",
    "    .builder \\\n",
    "    .appName(\"Yelp samples\") \\\n",
    "    .getOrCreate()\n",
    "\n",
    "reviewDF = spark.read.json(\"/Users/johne/Downloads/yelp_dataset/review.json\")\n",
    "reviewDF.printSchema()\n",
    "\n",
    "businessDF = spark.read.json(\"/Users/johne/Downloads/yelp_dataset/business.json\")\n",
    "businessDF.printSchema()\n",
    "\n",
    "# Avg ratting and Ambience of businesses with star rating > 4.5\n",
    "ambienceBusinessDF = businessDF.select(\"business_id\", \"stars\") \\\n",
    "    .filter(\"stars > 4.5\") \\\n",
    "    .groupBy(\"business_id\") \\\n",
    "    .avg(\"stars\") \\\n",
    "    .join(businessDF, \"business_id\") \\\n",
    "    .filter(\"attributes.Ambience != '' and attributes.Ambience != 'None'\") \\\n",
    "    .sort(\"stars\") \\\n",
    "    .select(\"attributes.Ambience\", \"name\", \"stars\")\n",
    "\n",
    "print type(businessDF)\n",
    "print type(ambienceBusinessDF)\n",
    "\n",
    "ambienceBusinessDF.show()\n",
    "\n"
   ]
  },
  {
   "cell_type": "code",
   "execution_count": null,
   "metadata": {},
   "outputs": [],
   "source": [
    "# Businesses review distribution\n",
    "# for businesses started above 4\n",
    "goodBusinessReviewsDF = businessDF \\\n",
    "    .select(\"business_id\", \"stars\", \"name\") \\\n",
    "    .filter(\"stars > 4.5\") \\\n",
    "    .distinct() \\\n",
    "    .join(reviewDF, \"business_id\") \\\n",
    "    .select(\"name\", \"text\", \"useful\", \"funny\", \"cool\")\n",
    "\n",
    "goodBusinessReviewsDF.show(10)"
   ]
  }
 ],
 "metadata": {
  "kernelspec": {
   "display_name": "Python 2",
   "language": "python",
   "name": "python2"
  },
  "language_info": {
   "codemirror_mode": {
    "name": "ipython",
    "version": 2
   },
   "file_extension": ".py",
   "mimetype": "text/x-python",
   "name": "python",
   "nbconvert_exporter": "python",
   "pygments_lexer": "ipython2",
   "version": "2.7.10"
  }
 },
 "nbformat": 4,
 "nbformat_minor": 2
}
